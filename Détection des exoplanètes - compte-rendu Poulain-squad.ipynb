{
 "cells": [
  {
   "cell_type": "markdown",
   "metadata": {},
   "source": [
    "# Détection des exoplanètes (Poulain-squad)"
   ]
  },
  {
   "cell_type": "markdown",
   "metadata": {},
   "source": [
    "# Groupe : Yacine Mostefai, Bruno Ferrari, Mathieu Markovitch, Clément Delmas"
   ]
  },
  {
   "cell_type": "markdown",
   "metadata": {},
   "source": [
    "## Semaine 1 : début du projet (01/03/2017)"
   ]
  },
  {
   "cell_type": "markdown",
   "metadata": {},
   "source": [
    "### Définition exoplanètes : aussi appelées planètes extrasolaires, ce sont des planètes situées en-dehors du système solaire : elles gravitent autour d'une étoile autre que le soleil ou autour d'un trou noir."
   ]
  },
  {
   "cell_type": "markdown",
   "metadata": {},
   "source": [
    "### A l'heure actuelle, il existe 3586 exoplanètes confirmées. 156 d'entre elles ont une masse inférieure à 8 masses terrestres : elles sont probablement telluriques et possèdent peut-être une atmosphère. C'est sur ces planètes-ci que la vie est susceptible d'être présente."
   ]
  },
  {
   "cell_type": "markdown",
   "metadata": {
    "collapsed": true
   },
   "source": [
    "## 3 méthodes principales de détection des exoplanètes : "
   ]
  },
  {
   "cell_type": "markdown",
   "metadata": {
    "collapsed": true
   },
   "source": [
    "## - La méthode de la vitesse radiale"
   ]
  },
  {
   "cell_type": "markdown",
   "metadata": {},
   "source": [
    "### ---> La vitesse radiale d'une exoplanète est modifiée en fonction de sa position orbitale"
   ]
  },
  {
   "cell_type": "markdown",
   "metadata": {},
   "source": [
    "### ---> Cette méthode s'appuie sur les perturbations qu'une exoplanète provoque sur le mouvement de son étoile"
   ]
  },
  {
   "cell_type": "markdown",
   "metadata": {},
   "source": [
    "### ---> On a recours à l'effet Doppler et à la sprectoscopie"
   ]
  },
  {
   "cell_type": "markdown",
   "metadata": {
    "collapsed": true
   },
   "source": [
    "## - La méthode du transit"
   ]
  },
  {
   "cell_type": "markdown",
   "metadata": {},
   "source": [
    "### ---> Cette méthode se base sur le changement de la luminosité d'une étoile lorsque l'explanète passe exactement entre la Terre et l'étoile"
   ]
  },
  {
   "cell_type": "markdown",
   "metadata": {
    "collapsed": true
   },
   "source": [
    "### ---> La planète doit être suffisamment volumineuse pour pourvoir observer ce phénomène"
   ]
  },
  {
   "cell_type": "markdown",
   "metadata": {
    "collapsed": true
   },
   "source": [
    "### ---> Ce phénomène est toutefois rarement observable "
   ]
  },
  {
   "cell_type": "markdown",
   "metadata": {
    "collapsed": true
   },
   "source": [
    "## - L'effet de microlentille gravitationnelle"
   ]
  },
  {
   "cell_type": "markdown",
   "metadata": {
    "collapsed": true
   },
   "source": [
    "### ---> Permet de calculer la masse de l'exoplanète et sa distance de son étoile"
   ]
  },
  {
   "cell_type": "markdown",
   "metadata": {
    "collapsed": true
   },
   "source": [
    "### ---> La planète, lorsqu'elle est parfaitement située entre l'étoile et la Terre, dévie les rayons lumineux de l'étoile : la luminosité apparente de l'étoile est modifiée"
   ]
  },
  {
   "cell_type": "markdown",
   "metadata": {
    "collapsed": true
   },
   "source": [
    "### ---> Comme pour la seconde méthode, l'alignement doit être parfait : ce cas est relativement rare"
   ]
  }
 ],
 "metadata": {
  "kernelspec": {
   "display_name": "Python 3",
   "language": "python",
   "name": "python3"
  },
  "language_info": {
   "codemirror_mode": {
    "name": "ipython",
    "version": 3
   },
   "file_extension": ".py",
   "mimetype": "text/x-python",
   "name": "python",
   "nbconvert_exporter": "python",
   "pygments_lexer": "ipython3",
   "version": "3.4.1"
  }
 },
 "nbformat": 4,
 "nbformat_minor": 0
}
