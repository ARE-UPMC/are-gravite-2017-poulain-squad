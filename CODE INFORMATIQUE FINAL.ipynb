{
 "cells": [
  {
   "cell_type": "markdown",
   "metadata": {},
   "source": [
    "   # CODE INFORMATIQUE FINAL\n",
    "   \n",
    "   ## SIMULATION DU MOUVEMENT D'UNE EXOPLANETE ET                                                                    D'UNE ETOILE AUTOUR DU CENTRE DE MASSE "
   ]
  },
  {
   "cell_type": "code",
   "execution_count": 19,
   "metadata": {
    "collapsed": false
   },
   "outputs": [],
   "source": [
    "#Created by Mosti and Ferrari ™\n",
    "# ©©©©©©©©©©© Mosti and Ferrari E.T.S ©©©©©©©©©©©  \n",
    "\n",
    "from pylab import *\n",
    "import numpy as np\n",
    "import matplotlib.pyplot as plt\n",
    "from matplotlib import animation\n",
    "\n",
    "circle = plt.Circle((0, 0), 0.05, color=\"black\",label='Centre de masse')\n",
    "circle2= plt.Circle((3,-3),0.3, color='blue',label='Terre')\n",
    "fig= plt.figure()\n",
    "fig.set_dpi(100)\n",
    "fig.set_size_inches(10, 10)\n",
    "\n",
    "ax=plt.axes(xlim=(-3.5, 3.5), ylim=(-3.5, 3.5))\n",
    "ax.add_artist(circle)\n",
    "ax.add_artist(circle2)\n",
    "\n",
    "gamma = np.linspace(0, 2*np.pi, 60)\n",
    "\n",
    "x = 0.5* np.cos(gamma)\n",
    "y = 0.5* np.sin(gamma)\n",
    "\n",
    "x1 =  3* np.cos(gamma)\n",
    "y1 = 3* np.sin(gamma)\n",
    "\n",
    "\n",
    "plt.plot(x, y,\"y--\",x1,y1,\"g--\")\n",
    "plt.plot([2.671,-3.5],[-3,3])\n",
    "plt.plot([3.5,-2.82],[-3,3],color='b')\n",
    "\n",
    "taille_planete = 0.15\n",
    "xcenter = 0\n",
    "ycenter = 0\n",
    "rayon_planete = 3\n",
    "\n",
    "\n",
    "\n",
    "taille_etoile = 0.4\n",
    "rayon_etoile=0.5\n",
    "\n",
    "patch = plt.Circle((5,-5), taille_planete, color='g', label='Exoplanète')\n",
    "patch2 = plt.Circle((-4, 4), taille_etoile, color='y',label='Etoile')\n",
    "\n",
    "def init():\n",
    "    ax.add_patch(patch)\n",
    "    ax.add_patch(patch2)\n",
    "    \n",
    "    return patch, patch2, \n",
    "\n",
    "def animate(t):\n",
    "    x,y = patch.center\n",
    "    x = xcenter + rayon_planete * np.sin(np.radians(t))\n",
    "    y = ycenter + rayon_planete * np.cos(np.radians(t))\n",
    "    patch.center = (x,y)\n",
    "   \n",
    "    x,y = patch2.center\n",
    "    x = xcenter + rayon_etoile * -np.sin(np.radians(t))\n",
    "    y = ycenter + rayon_etoile * -np.cos(np.radians(t))\n",
    "    patch2.center= (x,y)\n",
    "    \n",
    "    \n",
    "    \n",
    "    \n",
    "    return patch, patch2,  \n",
    "legend(loc='upper left',handles=[circle, patch, patch2, circle2])\n",
    "\n",
    "\n",
    "anim = animation.FuncAnimation(fig, animate, init_func=init, frames=360, interval=20, blit=True)\n",
    "\n",
    "plt.show()\n",
    "\n",
    "#Created by Mosti and Ferrari ™\n",
    "# ©©©©©©©©©©© Mosti and Ferrari E.T.S ©©©©©©©©©©© "
   ]
  },
  {
   "cell_type": "markdown",
   "metadata": {},
   "source": [
    "## SIMULATION DU TRANSIT AVEC DONNEES SALSAJ"
   ]
  },
  {
   "cell_type": "markdown",
   "metadata": {},
   "source": [
    "![KdoubleA](http://image.noelshack.com/fichiers/2017/13/1490709311-transit-mostefai-ferrari.gif)."
   ]
  },
  {
   "cell_type": "code",
   "execution_count": 20,
   "metadata": {
    "collapsed": true
   },
   "outputs": [],
   "source": [
    "import numpy as np\n",
    "from pylab import *\n",
    "d,v=np.loadtxt('transit.txt',skiprows=2,usecols=(0,1),unpack=True)\n",
    "plt.plot(d,v)\n",
    "plt.show()"
   ]
  },
  {
   "cell_type": "code",
   "execution_count": null,
   "metadata": {
    "collapsed": true
   },
   "outputs": [],
   "source": []
  }
 ],
 "metadata": {
  "kernelspec": {
   "display_name": "Python 3",
   "language": "python",
   "name": "python3"
  },
  "language_info": {
   "codemirror_mode": {
    "name": "ipython",
    "version": 3
   },
   "file_extension": ".py",
   "mimetype": "text/x-python",
   "name": "python",
   "nbconvert_exporter": "python",
   "pygments_lexer": "ipython3",
   "version": "3.4.1"
  }
 },
 "nbformat": 4,
 "nbformat_minor": 0
}
