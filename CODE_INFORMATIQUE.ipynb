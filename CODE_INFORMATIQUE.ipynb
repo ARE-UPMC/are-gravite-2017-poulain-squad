{
 "cells": [
  {
   "cell_type": "code",
   "execution_count": 16,
   "metadata": {
    "collapsed": false
   },
   "outputs": [],
   "source": []
  },
  {
   "cell_type": "code",
   "execution_count": 4,
   "metadata": {
    "collapsed": false
   },
   "outputs": [],
   "source": [
    "import numpy as np\n",
    "import matplotlib.pyplot as plt\n",
    "\n",
    "circle1 = plt.Circle((0, 0), 0.1, color='black')\n",
    "circle2 = plt.Circle((-2, 0), 0.2, color='blue')\n",
    "circle3 = plt.Circle((1, 0), 0.4, color='g', clip_on=False)\n",
    "\n",
    "fig, ax = plt.subplots() \n",
    "\n",
    "theta = np.linspace(0, 2*np.pi, 40)\n",
    "\n",
    "x = np.cos(theta)\n",
    "y = np.sin(theta)\n",
    "plt.plot(x, y,\"r--\")\n",
    "plt.axis(\"equal\")\n",
    "alpha=np.linspace(0, 2*np.pi, 40)\n",
    "a= 2*np.cos(alpha)\n",
    "b= 2*np.sin(alpha)\n",
    "plt.plot(a, b, \"r--\")\n",
    "plt.axis(\"equal\")\n",
    "plt.xlim(-3,3)\n",
    "plt.ylim(-2.5,2.5)\n",
    "ax.add_artist(circle1)\n",
    "ax.add_artist(circle2)\n",
    "ax.add_artist(circle3)\n",
    "\n",
    "\n",
    "\n",
    "\n",
    "plt.show()"
   ]
  },
  {
   "cell_type": "raw",
   "metadata": {},
   "source": []
  },
  {
   "cell_type": "code",
   "execution_count": 2,
   "metadata": {
    "collapsed": false
   },
   "outputs": [],
   "source": [
    "#Created by Mosti and Ferrari ™\n",
    "# ©©©©©©©©©©© Mosti and Ferrari E.T.S ©©©©©©©©©©©  \n",
    "\n",
    "from pylab import *\n",
    "import numpy as np\n",
    "import matplotlib.pyplot as plt\n",
    "from matplotlib import animation\n",
    "\n",
    "circle = plt.Circle((0, 0), 0.05, color=\"black\",label='Centre de masse')\n",
    "fig= plt.figure()\n",
    "fig.set_dpi(100)\n",
    "fig.set_size_inches(10, 10)\n",
    "\n",
    "ax=plt.axes(xlim=(-3.5, 3.5), ylim=(-3.5, 3.5))\n",
    "ax.add_artist(circle)\n",
    "\n",
    "gamma = np.linspace(0, 2*np.pi, 60)\n",
    "\n",
    "x = 0.5* np.cos(gamma)\n",
    "y = 0.5* np.sin(gamma)\n",
    "\n",
    "x1 =  3* np.cos(gamma)\n",
    "y1 = 3* np.sin(gamma)\n",
    "\n",
    "\n",
    "plt.plot(x, y,\"y--\",x1,y1,\"g--\")\n",
    "\n",
    "taille_planete = 0.15\n",
    "xcenter = 0\n",
    "ycenter = 0\n",
    "rayon_planete = 3\n",
    "\n",
    "\n",
    "\n",
    "taille_etoile = 0.4\n",
    "rayon_etoile=0.5\n",
    "\n",
    "patch = plt.Circle((5,-5), taille_planete, color='g', label='Exoplanète')\n",
    "patch2 = plt.Circle((-4, 4), taille_etoile, color='y',label='Etoile')\n",
    "patch3=plt.arrow(0,3,1, 0, head_width=0.05, head_length=0.1, fc='k', ec='k')\n",
    "patch4=plt.arrow(0,-0.5,-1,0, head_width=0.05, head_length=0.1, fc='k', ec='k')\n",
    "def init():\n",
    "    ax.add_patch(patch)\n",
    "    ax.add_patch(patch2)\n",
    "    ax.add_patch(patch3)\n",
    "    ax.add_patch(patch4)\n",
    "    return patch, patch2, patch3, patch4,\n",
    "\n",
    "def animate(t):\n",
    "    x,y = patch.center\n",
    "    x = xcenter + rayon_planete * np.sin(np.radians(t))\n",
    "    y = ycenter + rayon_planete * np.cos(np.radians(t))\n",
    "    patch.center = (x,y)\n",
    "    patch3.center =(x,y)\n",
    "    x,y = patch2.center\n",
    "    x = xcenter + rayon_etoile * -np.sin(np.radians(t))\n",
    "    y = ycenter + rayon_etoile * -np.cos(np.radians(t))\n",
    "    patch2.center= (x,y)\n",
    "    \n",
    "    \n",
    "    \n",
    "    \n",
    "    return patch, patch2,  \n",
    "legend(loc='upper left',handles=[circle, patch, patch2])\n",
    "\n",
    "anim = animation.FuncAnimation(fig, animate, init_func=init, frames=360, interval=20, blit=True)\n",
    "\n",
    "plt.show()\n",
    "\n",
    "#Created by Mosti and Ferrari ™\n",
    "# ©©©©©©©©©©© Mosti and Ferrari E.T.S ©©©©©©©©©©© "
   ]
  },
  {
   "cell_type": "code",
   "execution_count": 46,
   "metadata": {
    "collapsed": false
   },
   "outputs": [
    {
     "ename": "NameError",
     "evalue": "name 'get_patch' is not defined",
     "output_type": "error",
     "traceback": [
      "\u001b[1;31m---------------------------------------------------------------------------\u001b[0m",
      "\u001b[1;31mNameError\u001b[0m                                 Traceback (most recent call last)",
      "\u001b[1;32m<ipython-input-46-76266b42dd4d>\u001b[0m in \u001b[0;36m<module>\u001b[1;34m()\u001b[0m\n\u001b[0;32m      1\u001b[0m \u001b[0mp\u001b[0m \u001b[1;33m=\u001b[0m \u001b[0mplt\u001b[0m\u001b[1;33m.\u001b[0m\u001b[0marrow\u001b[0m\u001b[1;33m(\u001b[0m\u001b[1;36m0.5\u001b[0m\u001b[1;33m,\u001b[0m \u001b[1;36m0\u001b[0m\u001b[1;33m,\u001b[0m \u001b[1;36m0.5\u001b[0m\u001b[1;33m,\u001b[0m\u001b[1;36m0.5\u001b[0m\u001b[1;33m,\u001b[0m \u001b[0mhead_width\u001b[0m\u001b[1;33m=\u001b[0m\u001b[1;36m0.05\u001b[0m\u001b[1;33m,\u001b[0m \u001b[0mhead_length\u001b[0m\u001b[1;33m=\u001b[0m\u001b[1;36m0.1\u001b[0m\u001b[1;33m,\u001b[0m \u001b[0mfc\u001b[0m\u001b[1;33m=\u001b[0m\u001b[1;34m'k'\u001b[0m\u001b[1;33m,\u001b[0m \u001b[0mec\u001b[0m\u001b[1;33m=\u001b[0m\u001b[1;34m'k'\u001b[0m\u001b[1;33m,\u001b[0m\u001b[0mcolor\u001b[0m\u001b[1;33m=\u001b[0m\u001b[1;34m'y'\u001b[0m\u001b[1;33m)\u001b[0m\u001b[1;33m\u001b[0m\u001b[0m\n\u001b[0;32m      2\u001b[0m \u001b[1;33m\u001b[0m\u001b[0m\n\u001b[1;32m----> 3\u001b[1;33m \u001b[0mget_patch\u001b[0m\u001b[1;33m(\u001b[0m\u001b[1;33m)\u001b[0m\u001b[1;33m\u001b[0m\u001b[0m\n\u001b[0m",
      "\u001b[1;31mNameError\u001b[0m: name 'get_patch' is not defined"
     ]
    }
   ],
   "source": [
    "p = plt.arrow(0.5, 0, 0.5,0.5, head_width=0.05, head_length=0.1, fc='k', ec='k',color='y')\n",
    "\n",
    "get_patch()"
   ]
  },
  {
   "cell_type": "code",
   "execution_count": 37,
   "metadata": {
    "collapsed": false
   },
   "outputs": [
    {
     "data": {
      "text/plain": [
       "array([ 0.        ,  0.10649467,  0.21298933,  0.319484  ,  0.42597866,\n",
       "        0.53247333,  0.638968  ,  0.74546266,  0.85195733,  0.958452  ,\n",
       "        1.06494666,  1.17144133,  1.27793599,  1.38443066,  1.49092533,\n",
       "        1.59741999,  1.70391466,  1.81040933,  1.91690399,  2.02339866,\n",
       "        2.12989332,  2.23638799,  2.34288266,  2.44937732,  2.55587199,\n",
       "        2.66236666,  2.76886132,  2.87535599,  2.98185065,  3.08834532,\n",
       "        3.19483999,  3.30133465,  3.40782932,  3.51432399,  3.62081865,\n",
       "        3.72731332,  3.83380798,  3.94030265,  4.04679732,  4.15329198,\n",
       "        4.25978665,  4.36628132,  4.47277598,  4.57927065,  4.68576531,\n",
       "        4.79225998,  4.89875465,  5.00524931,  5.11174398,  5.21823864,\n",
       "        5.32473331,  5.43122798,  5.53772264,  5.64421731,  5.75071198,\n",
       "        5.85720664,  5.96370131,  6.07019597,  6.17669064,  6.28318531])"
      ]
     },
     "execution_count": 37,
     "metadata": {},
     "output_type": "execute_result"
    }
   ],
   "source": [
    "gamma = np.linspace(0, 2*np.pi, 60)\n",
    "gamma"
   ]
  },
  {
   "cell_type": "raw",
   "metadata": {},
   "source": []
  },
  {
   "cell_type": "code",
   "execution_count": 23,
   "metadata": {
    "collapsed": false
   },
   "outputs": [],
   "source": [
    "ax.annotate(\"\",\n",
    "            xy=(0.2, 0.2), xycoords='data',\n",
    "            xytext=(0.8, 0.8), textcoords='data',\n",
    "            arrowprops=dict(arrowstyle=\"->\",\n",
    "                            connectionstyle=\"arc3\"),)\n",
    "plt.show()"
   ]
  },
  {
   "cell_type": "code",
   "execution_count": 19,
   "metadata": {
    "collapsed": false
   },
   "outputs": [
    {
     "ename": "AttributeError",
     "evalue": "'module' object has no attribute 'arrowPatch'",
     "output_type": "error",
     "traceback": [
      "\u001b[1;31m---------------------------------------------------------------------------\u001b[0m",
      "\u001b[1;31mAttributeError\u001b[0m                            Traceback (most recent call last)",
      "\u001b[1;32m<ipython-input-19-dc42931078b6>\u001b[0m in \u001b[0;36m<module>\u001b[1;34m()\u001b[0m\n\u001b[1;32m----> 1\u001b[1;33m \u001b[0mplt\u001b[0m\u001b[1;33m.\u001b[0m\u001b[0marrowPatch\u001b[0m\u001b[1;33m(\u001b[0m\u001b[1;33m(\u001b[0m\u001b[1;36m0\u001b[0m\u001b[1;33m,\u001b[0m\u001b[1;36m0\u001b[0m\u001b[1;33m)\u001b[0m\u001b[1;33m,\u001b[0m\u001b[1;33m(\u001b[0m\u001b[1;36m1\u001b[0m\u001b[1;33m,\u001b[0m\u001b[1;36m1\u001b[0m\u001b[1;33m)\u001b[0m\u001b[1;33m,\u001b[0m\u001b[0marrowstyle\u001b[0m\u001b[1;33m=\u001b[0m\u001b[1;34m'simple'\u001b[0m\u001b[1;33m)\u001b[0m\u001b[1;33m\u001b[0m\u001b[0m\n\u001b[0m",
      "\u001b[1;31mAttributeError\u001b[0m: 'module' object has no attribute 'arrowPatch'"
     ]
    }
   ],
   "source": [
    "plt.arrowPatch((0,0),(1,1),arrowstyle='simple')"
   ]
  },
  {
   "cell_type": "code",
   "execution_count": 25,
   "metadata": {
    "collapsed": true
   },
   "outputs": [],
   "source": [
    "bbox_props = dict(boxstyle=\"rarrow,pad=0.3\", fc=\"cyan\", ec=\"b\", lw=2)\n",
    "t = ax.text(0, 0, \"Direction\", ha=\"center\", va=\"center\", rotation=45,\n",
    "            size=15,\n",
    "            bbox=bbox_props)\n",
    "plt.show()"
   ]
  },
  {
   "cell_type": "code",
   "execution_count": 52,
   "metadata": {
    "collapsed": false
   },
   "outputs": [
    {
     "ename": "AttributeError",
     "evalue": "'FancyArrowPatch' object has no attribute 'posA'",
     "output_type": "error",
     "traceback": [
      "\u001b[1;31m---------------------------------------------------------------------------\u001b[0m",
      "\u001b[1;31mAttributeError\u001b[0m                            Traceback (most recent call last)",
      "\u001b[1;32m<ipython-input-52-d691abb32e1e>\u001b[0m in \u001b[0;36m<module>\u001b[1;34m()\u001b[0m\n\u001b[0;32m      9\u001b[0m                         \u001b[0mshrinkB\u001b[0m\u001b[1;33m=\u001b[0m\u001b[1;36m0\u001b[0m\u001b[1;33m,\u001b[0m\u001b[1;33m\u001b[0m\u001b[0m\n\u001b[0;32m     10\u001b[0m                         mutation_scale=0.5)\n\u001b[1;32m---> 11\u001b[1;33m \u001b[0mt\u001b[0m\u001b[1;33m.\u001b[0m\u001b[0mposA\u001b[0m\u001b[1;33m\u001b[0m\u001b[0m\n\u001b[0m",
      "\u001b[1;31mAttributeError\u001b[0m: 'FancyArrowPatch' object has no attribute 'posA'"
     ]
    }
   ],
   "source": [
    "from matplotlib.patches import FancyArrowPatch\n",
    "n1 = (2,3)\n",
    "n2 = (4,6)\n",
    "\n",
    "t = FancyArrowPatch(posA=n1,posB=n2,\n",
    "                        connectionstyle='arc3',\n",
    "                        arrowstyle='->',\n",
    "                        shrinkA=0,\n",
    "                        shrinkB=0,\n",
    "                        mutation_scale=0.5)\n",
    "t.posA"
   ]
  },
  {
   "cell_type": "code",
   "execution_count": null,
   "metadata": {
    "collapsed": true
   },
   "outputs": [],
   "source": []
  }
 ],
 "metadata": {
  "kernelspec": {
   "display_name": "Python 3",
   "language": "python",
   "name": "python3"
  },
  "language_info": {
   "codemirror_mode": {
    "name": "ipython",
    "version": 3
   },
   "file_extension": ".py",
   "mimetype": "text/x-python",
   "name": "python",
   "nbconvert_exporter": "python",
   "pygments_lexer": "ipython3",
   "version": "3.4.1"
  }
 },
 "nbformat": 4,
 "nbformat_minor": 0
}
