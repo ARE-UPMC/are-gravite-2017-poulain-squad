{
 "cells": [
  {
   "cell_type": "code",
   "execution_count": 16,
   "metadata": {
    "collapsed": false
   },
   "outputs": [],
   "source": []
  },
  {
   "cell_type": "code",
   "execution_count": 4,
   "metadata": {
    "collapsed": false
   },
   "outputs": [],
   "source": [
    "import numpy as np\n",
    "import matplotlib.pyplot as plt\n",
    "\n",
    "circle1 = plt.Circle((0, 0), 0.1, color='black')\n",
    "circle2 = plt.Circle((-2, 0), 0.2, color='blue')\n",
    "circle3 = plt.Circle((1, 0), 0.4, color='g', clip_on=False)\n",
    "\n",
    "fig, ax = plt.subplots() \n",
    "\n",
    "theta = np.linspace(0, 2*np.pi, 40)\n",
    "\n",
    "x = np.cos(theta)\n",
    "y = np.sin(theta)\n",
    "plt.plot(x, y,\"r--\")\n",
    "plt.axis(\"equal\")\n",
    "alpha=np.linspace(0, 2*np.pi, 40)\n",
    "a= 2*np.cos(alpha)\n",
    "b= 2*np.sin(alpha)\n",
    "plt.plot(a, b, \"r--\")\n",
    "plt.axis(\"equal\")\n",
    "plt.xlim(-3,3)\n",
    "plt.ylim(-2.5,2.5)\n",
    "ax.add_artist(circle1)\n",
    "ax.add_artist(circle2)\n",
    "ax.add_artist(circle3)\n",
    "\n",
    "\n",
    "\n",
    "\n",
    "plt.show()"
   ]
  },
  {
   "cell_type": "code",
   "execution_count": 11,
   "metadata": {
    "collapsed": false
   },
   "outputs": [],
   "source": [
    "#Created by Mosti and Ferrari ™\n",
    "# ©©©©©©©©©©© Mosti and Ferrari E.T.S ©©©©©©©©©©©  \n",
    "\n",
    "\n",
    "import numpy as np\n",
    "import matplotlib.pyplot as plt\n",
    "from matplotlib import animation\n",
    "\n",
    "circle = plt.Circle((0, 0), 0.1, color=\"black\")\n",
    "fig= plt.figure()\n",
    "fig.set_dpi(100)\n",
    "fig.set_size_inches(10, 10)\n",
    "\n",
    "ax=plt.axes(xlim=(-10, 10), ylim=(-10, 10))\n",
    "ax.add_artist(circle)\n",
    "\n",
    "gamma = np.linspace(0, 2*np.pi, 60)\n",
    "\n",
    "x = 0.5* np.cos(gamma)\n",
    "y = 0.5* np.sin(gamma)\n",
    "\n",
    "x1 =  3* np.cos(gamma)\n",
    "y1 = 3* np.sin(gamma)\n",
    "plt.axis(\"equal\")\n",
    "\n",
    "plt.plot(x, y,\"y--\",x1,y1,\"g--\")\n",
    "\n",
    "taille_planete = 0.2\n",
    "xcenter = 0\n",
    "ycenter = 0\n",
    "rayon_planete = 3\n",
    "\n",
    "\n",
    "\n",
    "taille_etoile = 0.3\n",
    "rayon_etoile=0.5\n",
    "\n",
    "patch = plt.Circle((5,-5), taille_planete, color='g')\n",
    "patch2 = plt.Circle((-4, 4), taille_etoile, color='y')\n",
    "\n",
    "\n",
    "def init():\n",
    "    ax.add_patch(patch)\n",
    "    ax.add_patch(patch2)\n",
    "    return patch, patch2, \n",
    "\n",
    "def animate(t):\n",
    "    x,y = patch.center\n",
    "    x = xcenter + rayon_planete * np.sin(np.radians(t))\n",
    "    y = ycenter + rayon_planete * np.cos(np.radians(t))\n",
    "    patch.center = (x,y)\n",
    "    x,y = patch2.center\n",
    "    x = xcenter + rayon_etoile * -np.sin(np.radians(t))\n",
    "    y = ycenter + rayon_etoile * -np.cos(np.radians(t))\n",
    "    patch2.center= (x,y)\n",
    "    \n",
    "    return patch, patch2,\n",
    "\n",
    "anim = animation.FuncAnimation(fig, animate, init_func=init, frames=360, interval=20, blit=True)\n",
    "\n",
    "plt.show()\n",
    "\n",
    "#Created by Mosti and Ferrari ™\n",
    "# ©©©©©©©©©©© Mosti and Ferrari E.T.S ©©©©©©©©©©© "
   ]
  },
  {
   "cell_type": "code",
   "execution_count": null,
   "metadata": {
    "collapsed": true
   },
   "outputs": [],
   "source": []
  }
 ],
 "metadata": {
  "kernelspec": {
   "display_name": "Python 3",
   "language": "python",
   "name": "python3"
  },
  "language_info": {
   "codemirror_mode": {
    "name": "ipython",
    "version": 3
   },
   "file_extension": ".py",
   "mimetype": "text/x-python",
   "name": "python",
   "nbconvert_exporter": "python",
   "pygments_lexer": "ipython3",
   "version": "3.4.1"
  }
 },
 "nbformat": 4,
 "nbformat_minor": 0
}
