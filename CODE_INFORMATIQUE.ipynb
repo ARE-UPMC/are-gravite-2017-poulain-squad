{
 "cells": [
  {
   "cell_type": "code",
   "execution_count": 16,
   "metadata": {
    "collapsed": false
   },
   "outputs": [],
   "source": []
  },
  {
   "cell_type": "code",
   "execution_count": 88,
   "metadata": {
    "collapsed": false
   },
   "outputs": [],
   "source": [
    "import numpy as np\n",
    "import matplotlib.pyplot as plt\n",
    "\n",
    "circle1 = plt.Circle((0, 0), 0.1, color='black')\n",
    "circle2 = plt.Circle((-2, 0.13), 0.2, color='blue')\n",
    "circle3 = plt.Circle((1, 0.13), 0.4, color='g', clip_on=False)\n",
    "\n",
    "fig, ax = plt.subplots() \n",
    "\n",
    "theta = np.linspace(0, 2*np.pi, 40)\n",
    "\n",
    "x = np.cos(theta)\n",
    "y = np.sin(theta)\n",
    "plt.plot(x, y,\"r--\")\n",
    "plt.axis(\"equal\")\n",
    "alpha=np.linspace(0, 2*np.pi, 40)\n",
    "a= 2*np.cos(alpha)\n",
    "b= 2*np.sin(alpha)\n",
    "plt.plot(a, b, \"r--\")\n",
    "plt.axis(\"equal\")\n",
    "plt.xlim(-3,3)\n",
    "ax.add_artist(circle1)\n",
    "ax.add_artist(circle2)\n",
    "ax.add_artist(circle3)\n",
    "\n",
    "\n",
    "plt.show()"
   ]
  },
  {
   "cell_type": "code",
   "execution_count": null,
   "metadata": {
    "collapsed": true
   },
   "outputs": [],
   "source": []
  },
  {
   "cell_type": "code",
   "execution_count": null,
   "metadata": {
    "collapsed": true
   },
   "outputs": [],
   "source": []
  }
 ],
 "metadata": {
  "kernelspec": {
   "display_name": "Python 3",
   "language": "python",
   "name": "python3"
  },
  "language_info": {
   "codemirror_mode": {
    "name": "ipython",
    "version": 3
   },
   "file_extension": ".py",
   "mimetype": "text/x-python",
   "name": "python",
   "nbconvert_exporter": "python",
   "pygments_lexer": "ipython3",
   "version": "3.4.1"
  }
 },
 "nbformat": 4,
 "nbformat_minor": 0
}
