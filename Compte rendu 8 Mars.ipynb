{
 "cells": [
  {
   "cell_type": "markdown",
   "metadata": {},
   "source": [
    "# Compte rendu ARE exoplanètes\n",
    "\n",
    "## Avancée du projet, idées pour la suite\n",
    "\n",
    "##### Par Mathieu"
   ]
  },
  {
   "cell_type": "markdown",
   "metadata": {},
   "source": [
    "Informatique : 2 codes à réaliser\n",
    "\n",
    "    - Mouvement (2D) à deux corps autour d'un centre d'inertie fixe. Possibilité de modifier paramètres comme masse, rayon...\n",
    "    - Affichage de courbes d'intensité lumineuse avec planète en transit.\n",
    "       \n",
    "+ utilisation de Salsa J pour les transits\n",
    "-> à faire chez nous, car ne semble pas bien fonctionner sur les postes de L'UTES\n",
    "Liens :\n",
    "http://fr.euhou.net/docupload/transits_mars2013.pdf\n",
    "http://fr.euhou.net/docupload/files/exercice/DiagrammeHR/toiles_grce__salsaj.pdf\n",
    "\n",
    "\n",
    "Physique :\n",
    "    - Compréhension des mouvements étoile/planète (Newton, Kepler)\n",
    "    - Outils utilisés pour les observations (effet Doppler, photométrie...)\n",
    "    - Etablir équations, réaliser schémas -> podcast\n",
    "    - Actualité (TRAPPIST-1)\n",
    "    - Recherche et exploitation de données\n",
    "     http://exoplanet.eu/\n",
    "     http://www.iap.fr/recherche/groupes/groupes-1.php?nom=exoplanetes\n",
    "     Thèse d'Alexandre Santerne, sous la direction de F.BOUCHY\n",
    "\n",
    "Podcast :\n",
    "En progrès. Utilisation d'une vidéo de kinesthésie. Ebauche en PowerPoint -> Final en vidéo (montage)\n",
    "\n",
    "\n",
    "Recommandations des professeurs :\n",
    "Importance des exercices SalsaJ\n",
    "On doit créer nous même, par simulation, nos données\n",
    "On peut comparer avec TRAPPIST\n",
    "Simuler le bruit ?"
   ]
  }
 ],
 "metadata": {
  "kernelspec": {
   "display_name": "Python 3",
   "language": "python",
   "name": "python3"
  },
  "language_info": {
   "codemirror_mode": {
    "name": "ipython",
    "version": 3
   },
   "file_extension": ".py",
   "mimetype": "text/x-python",
   "name": "python",
   "nbconvert_exporter": "python",
   "pygments_lexer": "ipython3",
   "version": "3.4.1"
  }
 },
 "nbformat": 4,
 "nbformat_minor": 0
}
