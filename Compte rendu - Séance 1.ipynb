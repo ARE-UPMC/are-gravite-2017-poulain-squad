{
 "cells": [
  {
   "cell_type": "markdown",
   "metadata": {},
   "source": [
    "# Exoplanètes\n",
    "## Début du projet"
   ]
  },
  {
   "cell_type": "markdown",
   "metadata": {},
   "source": [
    "## Différents sites :\n",
    "\n",
    "exoplanète.eu avec des infos sur les exoplanètes détectées en temps réel. Liens vers des articles (Nature...)\n",
    "\n",
    "EU-HOU avec matériel pédagogique et Salsa J\n",
    "\n",
    "Utilisation de Google Scholar\n",
    "\n",
    "Institut d'Astrophysique de Paris -> Groupe de recherche 'Exoplanètes et milieu interstellaire', SPIRou\n",
    "Rencontre ?\n",
    "\n",
    "## Articles à l'UPMC (BCPR, MIR...)"
   ]
  },
  {
   "cell_type": "markdown",
   "metadata": {},
   "source": [
    "## Début création Podcast"
   ]
  }
 ],
 "metadata": {
  "kernelspec": {
   "display_name": "Python 3",
   "language": "python",
   "name": "python3"
  },
  "language_info": {
   "codemirror_mode": {
    "name": "ipython",
    "version": 3
   },
   "file_extension": ".py",
   "mimetype": "text/x-python",
   "name": "python",
   "nbconvert_exporter": "python",
   "pygments_lexer": "ipython3",
   "version": "3.4.1"
  }
 },
 "nbformat": 4,
 "nbformat_minor": 0
}
