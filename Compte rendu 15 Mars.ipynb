{
 "cells": [
  {
   "cell_type": "markdown",
   "metadata": {},
   "source": [
    "# Compte rendu 15 Mars - Exoplanètes\n",
    "\n",
    "### Par Mathieu"
   ]
  },
  {
   "cell_type": "markdown",
   "metadata": {},
   "source": [
    "Au cours de cette semaine\n",
    "\n",
    "Informatique : progrès du code sur l'affichage et l'animation du système à deux corps. Idées pour une animation du transit avec courbe de luminosité.\n",
    "\n",
    "Physique : réalisation d'exercice SalsaJ sur la vitesse radiale et l'effet Doppler-Fizeau. Données et graphique chargés sur le GitHub pour pouvoir les intégrer dans le podcast et le rapport écrit par la suite. J'ai consulté le cours du Collège de France sur les exoplanètes et leur détection (utile pour le podcast, mais c'est à nous de réaliser nos données et de les interpréter).\n",
    "\n",
    "Suite du rapport écrit. Intégration d'images et de courbes. -> SOURCES\n",
    "\n",
    "Podcast en cours d'élaboration sur un logiciel de montage vidéo.\n",
    "Il faudra y ajouter :\n",
    "- Nos résultats (avec les codes ?)\n",
    "- La vidéo de kinesthésie\n",
    "- Quelques infos sur l'effet Doppler, les types de détection etc...\n",
    "\n",
    "Le tout avec une narration."
   ]
  },
  {
   "cell_type": "code",
   "execution_count": null,
   "metadata": {
    "collapsed": true
   },
   "outputs": [],
   "source": []
  }
 ],
 "metadata": {
  "kernelspec": {
   "display_name": "Python 3",
   "language": "python",
   "name": "python3"
  },
  "language_info": {
   "codemirror_mode": {
    "name": "ipython",
    "version": 3
   },
   "file_extension": ".py",
   "mimetype": "text/x-python",
   "name": "python",
   "nbconvert_exporter": "python",
   "pygments_lexer": "ipython3",
   "version": "3.4.1"
  }
 },
 "nbformat": 4,
 "nbformat_minor": 0
}
