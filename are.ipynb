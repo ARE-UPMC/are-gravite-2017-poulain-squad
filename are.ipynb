{
 "cells": [
  {
   "cell_type": "code",
   "execution_count": 16,
   "metadata": {
    "collapsed": false
   },
   "outputs": [],
   "source": []
  },
  {
   "cell_type": "code",
   "execution_count": 40,
   "metadata": {
    "collapsed": false
   },
   "outputs": [],
   "source": [
    "import numpy as np\n",
    "import matplotlib.pyplot as plt\n",
    "\n",
    "circle1 = plt.Circle((0, 0), 10, color='r')\n",
    "circle2 = plt.Circle((50, 50), 20, color='blue')\n",
    "circle3 = plt.Circle((100, 100), 15, color='g', clip_on=False)\n",
    "\n",
    "fig, ax = plt.subplots() \n",
    "plt.plot(x,y,'b')\n",
    "ax.add_artist(circle1)\n",
    "ax.add_artist(circle2)\n",
    "ax.add_artist(circle3)\n",
    "plt.xlim(-200, 200)\n",
    "plt.ylim(-200, 200)\n",
    "\n",
    "plt.show()"
   ]
  },
  {
   "cell_type": "code",
   "execution_count": null,
   "metadata": {
    "collapsed": true
   },
   "outputs": [],
   "source": []
  },
  {
   "cell_type": "code",
   "execution_count": null,
   "metadata": {
    "collapsed": true
   },
   "outputs": [],
   "source": []
  }
 ],
 "metadata": {
  "kernelspec": {
   "display_name": "Python 3",
   "language": "python",
   "name": "python3"
  },
  "language_info": {
   "codemirror_mode": {
    "name": "ipython",
    "version": 3
   },
   "file_extension": ".py",
   "mimetype": "text/x-python",
   "name": "python",
   "nbconvert_exporter": "python",
   "pygments_lexer": "ipython3",
   "version": "3.4.1"
  }
 },
 "nbformat": 4,
 "nbformat_minor": 0
}
